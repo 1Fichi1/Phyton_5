{
 "cells": [
  {
   "cell_type": "code",
   "execution_count": null,
   "metadata": {},
   "outputs": [],
   "source": [
    "Практическая №5 Анализ датасета\n",
    "Цель: целью данного кода является базовый анализ датасета \"Mall_Customers.csv\". Производятся следующие шаги: вывод датасета, описание его структуры, обработка данных, проведение базового анализа с использованием функций библиотеки pandas, и сохранение обработанного датасета в новый файл.\n",
    "CustomerID: Уникальный идентификатор клиента.\n",
    "Genre: Пол клиента (Male - мужчина, Female - женщина).\n",
    "Age: Возраст клиента.\n",
    "Annual Income (k$): Годовой доход клиента в тысячах долларов.\n",
    "Spending Score (1-100): Оценка трат клиента в магазине, где 1 - низкий уровень трат, 100 - высокий уровень трат.\n"
   ]
  },
  {
   "cell_type": "code",
   "execution_count": null,
   "metadata": {},
   "outputs": [],
   "source": [
    "import pandas as pd\n",
    "import numpy as np\n",
    "Mall_Customers = pd.read_csv('Mall_Customers.csv')\n",
    "Mall_Customers"
   ]
  },
  {
   "cell_type": "markdown",
   "metadata": {},
   "source": [
    "Вывод:"
   ]
  },
  {
   "cell_type": "code",
   "execution_count": null,
   "metadata": {},
   "outputs": [],
   "source": [
    "Mall_Customers.head()"
   ]
  },
  {
   "cell_type": "markdown",
   "metadata": {},
   "source": [
    "размерность массива:"
   ]
  },
  {
   "cell_type": "code",
   "execution_count": null,
   "metadata": {},
   "outputs": [],
   "source": [
    "Mall_Customers.shape"
   ]
  },
  {
   "cell_type": "markdown",
   "metadata": {},
   "source": [
    "вывод намименований всех колонок:"
   ]
  },
  {
   "cell_type": "code",
   "execution_count": null,
   "metadata": {},
   "outputs": [],
   "source": [
    "Mall_Customers.columns"
   ]
  },
  {
   "cell_type": "markdown",
   "metadata": {},
   "source": [
    "Вывод всех уникальных значений:"
   ]
  },
  {
   "cell_type": "code",
   "execution_count": null,
   "metadata": {},
   "outputs": [],
   "source": [
    "Mall_Customers['Spending Score (1-100)'].unique()"
   ]
  },
  {
   "cell_type": "markdown",
   "metadata": {},
   "source": [
    "Отсортировка по определенным параметрам:"
   ]
  },
  {
   "cell_type": "code",
   "execution_count": null,
   "metadata": {},
   "outputs": [],
   "source": [
    "Mall_Customers.sort_values(by='CustomerID')"
   ]
  },
  {
   "cell_type": "markdown",
   "metadata": {},
   "source": [
    "Удаление ненужных столбцов или строк:"
   ]
  },
  {
   "cell_type": "code",
   "execution_count": null,
   "metadata": {},
   "outputs": [],
   "source": [
    "Mall_Customers.drop(columns = [\"Genre\"], inplace=True)"
   ]
  },
  {
   "cell_type": "markdown",
   "metadata": {},
   "source": [
    "Заменение определенных значений в датасете (например, пустые):"
   ]
  },
  {
   "cell_type": "code",
   "execution_count": null,
   "metadata": {},
   "outputs": [],
   "source": [
    "Mall_Customers[\"Age\"] = Mall_Customers[\"Age\"].replace(Mall_Customers[\"Age\"].unique(), \"immortal\")\n",
    "Mall_Customers"
   ]
  },
  {
   "cell_type": "markdown",
   "metadata": {},
   "source": [
    "Удаление дубликатов:"
   ]
  },
  {
   "cell_type": "code",
   "execution_count": null,
   "metadata": {},
   "outputs": [],
   "source": [
    "Mall_Customersa = Mall_Customers.drop_duplicates()\n",
    "Mall_Customers"
   ]
  },
  {
   "cell_type": "markdown",
   "metadata": {},
   "source": [
    "Проведение анализов с помощью функций info:"
   ]
  },
  {
   "cell_type": "code",
   "execution_count": null,
   "metadata": {},
   "outputs": [],
   "source": [
    "Mall_Customers.info()"
   ]
  },
  {
   "cell_type": "markdown",
   "metadata": {},
   "source": [
    "Проведение анализа с помощью функций describe:"
   ]
  },
  {
   "cell_type": "code",
   "execution_count": null,
   "metadata": {},
   "outputs": [],
   "source": [
    "Mall_Customers.describe()"
   ]
  },
  {
   "cell_type": "markdown",
   "metadata": {},
   "source": [
    "Проведение выборки данных по строкам и столбцам с помощью loc:"
   ]
  },
  {
   "cell_type": "code",
   "execution_count": null,
   "metadata": {},
   "outputs": [],
   "source": [
    "subset = Mall_Customers.loc[[0, 1, 2], ['Annual Income (k$)', 'Spending Score (1-100)']]\n",
    "subset"
   ]
  },
  {
   "cell_type": "markdown",
   "metadata": {},
   "source": [
    "Сохранение нового датасета:"
   ]
  },
  {
   "cell_type": "code",
   "execution_count": null,
   "metadata": {},
   "outputs": [],
   "source": [
    "Mall_Customers.to_csv(\"Mall_Customers_NEW.csv\", index=True)\n",
    "Mall_Customers"
   ]
  },
  {
   "cell_type": "markdown",
   "metadata": {},
   "source": [
    "\n",
    "Вывод:\n",
    "\n",
    "В представленном коде был проведен базовый анализ датасета \"Mall_Customers.csv\" с использованием библиотеки pandas. В ходе анализа были выполнены следующие шаги:\n",
    "\n",
    "Выведены первые строки датасета для предварительного ознакомления с данными.\n",
    "Определена размерность массива данных.\n",
    "Проанализированы названия всех колонок и их смысл в контексте датасета.\n",
    "Выведены уникальные значения в выбранном столбце.\n",
    "Произведена сортировка данных по заданному параметру.\n",
    "Удален ненужный столбец \"Genre\".\n",
    "Значения в столбце \"Age\" заменены на \"immortal\".\n",
    "Удалены дубликаты.\n",
    "Проведен анализ данных с использованием функций info и describe.\n",
    "Выполнена выборка данных по строкам и столбцам с помощью loc.\n",
    "Новый обработанный датасет сохранен в файл \"Mall_Customers_NEW.csv\".\n",
    "В результате этих операций был получен обработанный и подготовленный датасет для дальнейших аналитических задач."
   ]
  }
 ],
 "metadata": {
  "language_info": {
   "name": "python"
  }
 },
 "nbformat": 4,
 "nbformat_minor": 2
}
